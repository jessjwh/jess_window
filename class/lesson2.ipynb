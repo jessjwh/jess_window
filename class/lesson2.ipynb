{
 "cells": [
  {
   "cell_type": "code",
   "execution_count": 26,
   "metadata": {},
   "outputs": [
    {
     "name": "stdout",
     "output_type": "stream",
     "text": [
      "<class '__main__.Person'>\n",
      "p1.name=Jess\n",
      "p2.name=Olives\n"
     ]
    }
   ],
   "source": [
    "class Person():\n",
    "    def __init__(self, n:str):\n",
    "        self.name = n\n",
    "        pass\n",
    "\n",
    "    def __repr__(self):\n",
    "        return f\"我是Person的實體, 我的名字是:{self.name}\"\n",
    "\n",
    "p1:Person = Person(\"Jess\")\n",
    "print(type(p1))\n",
    "print(f\"p1.name={p1.name}\")\n",
    "\n",
    "p2:Person=Person(\"Olives\")\n",
    "p2.name\n",
    "print(f\"p2.name={p2.name}\")"
   ]
  },
  {
   "cell_type": "code",
   "execution_count": 46,
   "metadata": {},
   "outputs": [
    {
     "name": "stdout",
     "output_type": "stream",
     "text": [
      "Jess\n",
      "Olives\n"
     ]
    }
   ],
   "source": [
    "class Student(Person):\n",
    "    def __init__(self, name:str, chinese:int, english:int, math:int):\n",
    "        super().__init__(n=name)\n",
    "        self.__chinese = chinese\n",
    "        self.__english = english\n",
    "        self.__math = math\n",
    "\n",
    "    @property\n",
    "    def chinese(self):\n",
    "        return self.__chinese\n",
    "    \n",
    "    @property\n",
    "    def english(self):\n",
    "        return self.__english\n",
    "    \n",
    "    @property\n",
    "    def math(self):\n",
    "        return self.__math\n",
    "    \n",
    "    @property\n",
    "    def scores(self):\n",
    "        return self.__chinese + self.__english + self.__math\n",
    "    \n",
    "    #自訂實體的方法（method）\n",
    "    def average(self):\n",
    "        return self.scores / 3\n",
    "    \n",
    "\n",
    "    def __repr__(self):\n",
    "        message = f\"我是Student的實體, 我的名字是:{self.name}\\n\"\n",
    "        message += f\"國文分數：{self.chinese}\\n\"\n",
    "        message += f\"英文分數：{self.english}\\n\"\n",
    "        message += f\"數學分數：{self.math}\\n\"\n",
    "        return message\n",
    "\n",
    "s1 = Student(name=\"Jess\", chinese=90, english=100, math=80)\n",
    "print(s1.name)\n",
    "\n",
    "s2 = Student(name=\"Olives\", chinese=50, english=100, math=90)\n",
    "print(s2.name)\n"
   ]
  },
  {
   "cell_type": "code",
   "execution_count": 32,
   "metadata": {},
   "outputs": [
    {
     "name": "stdout",
     "output_type": "stream",
     "text": [
      "我是Person的實體, 我的名字是:Jess\n",
      "我是Student的實體, 我的名字是:Jess\n",
      "國文分數：90\n",
      "英文分數：100\n",
      "數學分數：80\n",
      "\n",
      "我是Person的實體, 我的名字是:Olives\n",
      "我是Student的實體, 我的名字是:Olives\n",
      "國文分數：50\n",
      "英文分數：100\n",
      "數學分數：90\n",
      "\n"
     ]
    }
   ],
   "source": [
    "print(p1)\n",
    "print(s1)\n",
    "\n",
    "print(p2)\n",
    "print(s2)"
   ]
  },
  {
   "cell_type": "code",
   "execution_count": 47,
   "metadata": {},
   "outputs": [
    {
     "name": "stdout",
     "output_type": "stream",
     "text": [
      "我是Student的實體, 我的名字是:Jess\n",
      "國文分數：90\n",
      "英文分數：100\n",
      "數學分數：80\n",
      "\n",
      "總分：270\n",
      "平均：90.0\n"
     ]
    }
   ],
   "source": [
    "#attribute 可更改內容\n",
    "#property 可以設定，不可更改內容\n",
    "# s1.chinese = 100\n",
    "# s1.english = 100\n",
    "# s1.math = 100\n",
    "print(s1)\n",
    "print(f\"總分：{s1.scores}\") #property\n",
    "print(f\"平均：{s1.average()}\") #method"
   ]
  }
 ],
 "metadata": {
  "kernelspec": {
   "display_name": "venv1",
   "language": "python",
   "name": "python3"
  },
  "language_info": {
   "codemirror_mode": {
    "name": "ipython",
    "version": 3
   },
   "file_extension": ".py",
   "mimetype": "text/x-python",
   "name": "python",
   "nbconvert_exporter": "python",
   "pygments_lexer": "ipython3",
   "version": "3.10.14"
  }
 },
 "nbformat": 4,
 "nbformat_minor": 2
}
