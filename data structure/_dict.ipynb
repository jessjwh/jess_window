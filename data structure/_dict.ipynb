{
 "cells": [
  {
   "cell_type": "code",
   "execution_count": 13,
   "metadata": {},
   "outputs": [
    {
     "name": "stdout",
     "output_type": "stream",
     "text": [
      "3\n",
      "<class 'dict'>\n"
     ]
    }
   ],
   "source": [
    "#create dict\n",
    "d1:dict = {\"one\":1,\n",
    "           \"two\":2, \n",
    "           \"three\":3}\n",
    "\n",
    "#檢查元素數量\n",
    "print(len(d1))\n",
    "\n",
    "#可以檢查型別\n",
    "print(type(d1))"
   ]
  },
  {
   "cell_type": "code",
   "execution_count": 14,
   "metadata": {},
   "outputs": [
    {
     "name": "stdout",
     "output_type": "stream",
     "text": [
      "1\n",
      "2\n",
      "3\n"
     ]
    }
   ],
   "source": [
    "#subscript[key]\n",
    "print(d1['one'])\n",
    "print(d1['two'])\n",
    "print(d1['three'])"
   ]
  },
  {
   "cell_type": "code",
   "execution_count": 15,
   "metadata": {},
   "outputs": [
    {
     "name": "stdout",
     "output_type": "stream",
     "text": [
      "key=one\n",
      "value=1\n",
      "=========\n",
      "key=two\n",
      "value=2\n",
      "=========\n",
      "key=three\n",
      "value=3\n",
      "=========\n"
     ]
    }
   ],
   "source": [
    "#整合 for in 迴圈\n",
    "for key in d1:\n",
    "    print(f'key={key}')\n",
    "    print(f'value={d1[key]}')\n",
    "    print(\"=========\")"
   ]
  },
  {
   "cell_type": "code",
   "execution_count": 16,
   "metadata": {},
   "outputs": [
    {
     "name": "stdout",
     "output_type": "stream",
     "text": [
      "{'one': 1, 'two': 2, 'three': 3, 'four': 4, 'five': 5}\n"
     ]
    }
   ],
   "source": [
    "#新增元素\n",
    "d1['four'] = 4\n",
    "d1['five'] = 5\n",
    "print(d1)"
   ]
  },
  {
   "cell_type": "code",
   "execution_count": 19,
   "metadata": {},
   "outputs": [
    {
     "name": "stdout",
     "output_type": "stream",
     "text": [
      "{'one': 1, 'two': 2, 'three': 3}\n"
     ]
    }
   ],
   "source": [
    "#刪除元素\n",
    "if 'four' in d1:\n",
    "    del d1['four']\n",
    "\n",
    "if 'five' in d1:\n",
    "    del d1['five']\n",
    "\n",
    "print(d1)\n",
    "\n",
    "# del d1['four']\n",
    "# del d1['five']\n",
    "# print(d1)"
   ]
  },
  {
   "cell_type": "code",
   "execution_count": 21,
   "metadata": {},
   "outputs": [
    {
     "name": "stdout",
     "output_type": "stream",
     "text": [
      "one\n",
      "two\n",
      "three\n"
     ]
    }
   ],
   "source": [
    "#實體方法()\n",
    "\n",
    "#keys(), values(), items()\n",
    "\n",
    "d1.keys()\n",
    "for key in d1.keys():\n",
    "    print(key)"
   ]
  },
  {
   "cell_type": "code",
   "execution_count": 22,
   "metadata": {},
   "outputs": [
    {
     "name": "stdout",
     "output_type": "stream",
     "text": [
      "1\n",
      "2\n",
      "3\n"
     ]
    }
   ],
   "source": [
    "for value in d1.values():\n",
    "    print(value)"
   ]
  },
  {
   "cell_type": "code",
   "execution_count": 24,
   "metadata": {},
   "outputs": [
    {
     "name": "stdout",
     "output_type": "stream",
     "text": [
      "one\n",
      "1\n",
      "=====\n",
      "two\n",
      "2\n",
      "=====\n",
      "three\n",
      "3\n",
      "=====\n"
     ]
    }
   ],
   "source": [
    "for key, value in d1.items():\n",
    "    print(key)\n",
    "    print(value)\n",
    "    print(\"=====\")"
   ]
  }
 ],
 "metadata": {
  "kernelspec": {
   "display_name": "venv1",
   "language": "python",
   "name": "python3"
  },
  "language_info": {
   "codemirror_mode": {
    "name": "ipython",
    "version": 3
   },
   "file_extension": ".py",
   "mimetype": "text/x-python",
   "name": "python",
   "nbconvert_exporter": "python",
   "pygments_lexer": "ipython3",
   "version": "3.10.14"
  }
 },
 "nbformat": 4,
 "nbformat_minor": 2
}
