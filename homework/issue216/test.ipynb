{
 "cells": [
  {
   "cell_type": "code",
   "execution_count": 1,
   "metadata": {},
   "outputs": [
    {
     "name": "stdout",
     "output_type": "stream",
     "text": [
      "你的BMI是: 24.2 。你的體重很理想呢!\n",
      "建議你最適合的體重是:  56.3公斤\n",
      "一起加油吧~ ^___^\n"
     ]
    }
   ],
   "source": [
    "height=eval(input(\"請輸入你的身高:\"))\n",
    "weight=eval(input(\"請輸入你的體重:\"))\n",
    "BMI=round((weight/((height/100))**2),1)\n",
    "\n",
    "\n",
    "if BMI<18.5:\n",
    "    print(\"你的BMI是:\",BMI,\"。你太瘦囉!\")\n",
    "elif BMI<25:\n",
    "    print(\"你的BMI是:\",BMI,\"。你的體重很理想呢!\")\n",
    "elif BMI<30:\n",
    "    print(\"你的BMI是:\",BMI,\"。你有點過胖喔!\")\n",
    "else:\n",
    "    print(\"你的BMI是:\",BMI,\"。你是肥胖的。\")\n",
    "\n",
    "\n",
    "w=((height/100)**2)*22\n",
    "print(\"建議你最適合的體重是:%6.1f公斤\"%w)\n",
    "print(\"一起加油吧~ ^___^\")\n"
   ]
  },
  {
   "cell_type": "code",
   "execution_count": null,
   "metadata": {},
   "outputs": [],
   "source": [
    "import tkinter as tk\n",
    "from tkinter import messagebox\n",
    "\n",
    "def get_bmi():\n",
    "    try:\n",
    "        name = entry_name.get()\n",
    "        weight = float(entry_weight.get())\n",
    "        height_cm = float(entry_height.get())\n",
    "        height_m = height_cm / 100\n",
    "        bmi = weight / (height_m * height_m)\n",
    "        \n",
    "        if bmi < 18.5:\n",
    "            category = \"UNDERWEIGHT\"\n",
    "        elif 18.5 <= bmi < 24.9:\n",
    "            category = \"STANDARD\"\n",
    "        elif 25 <= bmi < 29.9:\n",
    "            category = \"OVERWEIGHT\"\n",
    "        else:\n",
    "            category = \"TOO FAT\"\n",
    "\n",
    "        message = (f\"Hey {name}!\\nYour BMI is: {bmi:.1f} ({category})\\n\"\n",
    "                   f\"Your ideal weight is: {((height/100)**2)*22:.1f} kg\")\n",
    "        \n",
    "        messagebox.showinfo(\"BMI Result\", message)\n",
    "    except ValueError:\n",
    "        messagebox.showerror(\"Invalid answer. Please try again!\")\n",
    "\n",
    "def on_close():\n",
    "    root.destroy()\n",
    "\n",
    "root = tk.Tk()\n",
    "root.title(\"Get My BMI\")\n",
    "\n",
    "root.geometry(\"300x300\")\n",
    "\n",
    "label_name = tk.Label(root, text=\"Name:\")\n",
    "label_name.pack(ipady=5)\n",
    "entry_name = tk.Entry(root, width=15)\n",
    "entry_name.pack(ipady=5)\n",
    "\n",
    "label_height = tk.Label(root, text=\"Height (cm):\")\n",
    "label_height.pack(ipady=5)\n",
    "entry_height = tk.Entry(root, width=15)\n",
    "entry_height.pack(ipady=5)\n",
    "\n",
    "label_weight = tk.Label(root, text=\"Weight (kg):\")\n",
    "label_weight.pack(ipady=5)\n",
    "entry_weight = tk.Entry(root, width=15)\n",
    "entry_weight.pack(ipady=5)\n",
    "\n",
    "\n",
    "btn_calculate = tk.Button(root, text=\"Let's seee!\", width=10, command=get_bmi)\n",
    "btn_calculate.pack(pady=(10,10),ipady=10)\n",
    "\n",
    "# btn_close = tk.Button(root, text=\"BYEEE\", command=on_close)\n",
    "# btn_close.pack(pady=5)\n",
    "\n",
    "root.mainloop()"
   ]
  }
 ],
 "metadata": {
  "kernelspec": {
   "display_name": "venv2",
   "language": "python",
   "name": "python3"
  },
  "language_info": {
   "codemirror_mode": {
    "name": "ipython",
    "version": 3
   },
   "file_extension": ".py",
   "mimetype": "text/x-python",
   "name": "python",
   "nbconvert_exporter": "python",
   "pygments_lexer": "ipython3",
   "version": "3.10.14"
  }
 },
 "nbformat": 4,
 "nbformat_minor": 2
}
