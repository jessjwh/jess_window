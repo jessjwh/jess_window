{
 "cells": [
  {
   "cell_type": "code",
   "execution_count": 5,
   "metadata": {},
   "outputs": [
    {
     "data": {
      "text/plain": [
       "[25, 15, 9, 7, 3]"
      ]
     },
     "execution_count": 5,
     "metadata": {},
     "output_type": "execute_result"
    }
   ],
   "source": [
    "li1 = [3,15,7,9, 25]\n",
    "li1.sort(reverse=True)\n",
    "li1"
   ]
  },
  {
   "cell_type": "code",
   "execution_count": 8,
   "metadata": {},
   "outputs": [
    {
     "data": {
      "text/plain": [
       "[3, 7, 9, 15, 25]"
      ]
     },
     "execution_count": 8,
     "metadata": {},
     "output_type": "execute_result"
    }
   ],
   "source": [
    "li2 = [3,15,7,9, 25]\n",
    "# new_li2 = sorted(li2)\n",
    "# new_li2\n",
    "sorted(li2)"
   ]
  },
  {
   "cell_type": "code",
   "execution_count": 15,
   "metadata": {},
   "outputs": [
    {
     "data": {
      "text/plain": [
       "[{'name': 'Jess', 'age': 29},\n",
       " {'name': 'Dan', 'age': 25},\n",
       " {'name': 'Olives', 'age': 7}]"
      ]
     },
     "execution_count": 15,
     "metadata": {},
     "output_type": "execute_result"
    }
   ],
   "source": [
    "people = [\n",
    "    {\"name\":\"Jess\", \"age\":29},\n",
    "    {\"name\":\"Olives\", \"age\":7},\n",
    "    {\"name\":\"Dan\", \"age\":25}\n",
    "]\n",
    "\n",
    "def sort_key(value:dict)->int:\n",
    "    return value['age']\n",
    "\n",
    "## [key]\n",
    "\n",
    "#[lambda] -> \"anonymous [function]\"\n",
    "new_people = sorted(people, key=lambda value:value['age'],reverse=True)\n",
    "new_people\n",
    "\n",
    "# [sorted]\n",
    "# new_people = sorted(people, key= sort_key, reverse=True)\n",
    "# new_people"
   ]
  },
  {
   "cell_type": "code",
   "execution_count": 17,
   "metadata": {},
   "outputs": [
    {
     "data": {
      "text/plain": [
       "41324"
      ]
     },
     "execution_count": 17,
     "metadata": {},
     "output_type": "execute_result"
    }
   ],
   "source": [
    "from datetime import datetime\n",
    "\n",
    "now = datetime.now()\n",
    "diff = now-datetime(2024,6,6)\n",
    "diff.seconds"
   ]
  },
  {
   "cell_type": "code",
   "execution_count": 23,
   "metadata": {},
   "outputs": [
    {
     "name": "stdout",
     "output_type": "stream",
     "text": [
      "我是第1個元素\n",
      "我是第2個元素\n",
      "我是第3個元素\n",
      "我是第4個元素\n",
      "我是第5個元素\n"
     ]
    }
   ],
   "source": [
    "#使用 map()\n",
    "def square(x):\n",
    "    return f'我是第{x}個元素'\n",
    "numbers = [1,2,3,4,5]\n",
    "str_list:list[str] = list(map(square,numbers))\n",
    "\"\\n\".join(str_list)\n",
    "print(\"\\n\".join(str_list))"
   ]
  },
  {
   "cell_type": "code",
   "execution_count": 28,
   "metadata": {},
   "outputs": [
    {
     "name": "stdout",
     "output_type": "stream",
     "text": [
      "新北市 - 萬里 - 空氣品質:16 - 狀態:良好 - 2024-06-06 13:00\n",
      "新北市 - 萬里 - 空氣品質:17 - 狀態:良好 - 2024-06-06 12:00\n",
      "新北市 - 萬里 - 空氣品質:17 - 狀態:良好 - 2024-06-06 11:00\n",
      "臺中市 - 大甲（日南國小） - 空氣品質:17 - 狀態:良好 - 2024-06-06 07:00\n",
      "新竹縣 - 竹東 - 空氣品質:18 - 狀態:良好 - 2024-06-06 13:00\n"
     ]
    }
   ],
   "source": [
    "data:list[dict] = [{'aqi': 16,\n",
    "  'county': '新北市',\n",
    "  'date': '2024-06-06 13:00',\n",
    "  'pm25': 1.0,\n",
    "  'site_name': '萬里',\n",
    "  'status': '良好'},\n",
    " {'aqi': 17,\n",
    "  'county': '新北市',\n",
    "  'date': '2024-06-06 12:00',\n",
    "  'pm25': 0.0,\n",
    "  'site_name': '萬里',\n",
    "  'status': '良好'},\n",
    " {'aqi': 17,\n",
    "  'county': '新北市',\n",
    "  'date': '2024-06-06 11:00',\n",
    "  'pm25': 1.0,\n",
    "  'site_name': '萬里',\n",
    "  'status': '良好'},\n",
    " {'aqi': 17,\n",
    "  'county': '臺中市',\n",
    "  'date': '2024-06-06 07:00',\n",
    "  'pm25': 6.0,\n",
    "  'site_name': '大甲（日南國小）',\n",
    "  'status': '良好'},\n",
    " {'aqi': 18,\n",
    "  'county': '新竹縣',\n",
    "  'date': '2024-06-06 13:00',\n",
    "  'pm25': 1.0,\n",
    "  'site_name': '竹東',\n",
    "  'status': '良好'}]\n",
    "\n",
    "def abc(value:dict) -> str:\n",
    "    return f\"{value['county']} - {value['site_name']} - 空氣品質:{value['aqi']} - 狀態:{value['status']} - {value['date']}\"\n",
    "\n",
    "message_data:list[str] = list(map(abc,data))\n",
    "print(\"\\n\".join(message_data))"
   ]
  }
 ],
 "metadata": {
  "kernelspec": {
   "display_name": "venv2",
   "language": "python",
   "name": "python3"
  },
  "language_info": {
   "codemirror_mode": {
    "name": "ipython",
    "version": 3
   },
   "file_extension": ".py",
   "mimetype": "text/x-python",
   "name": "python",
   "nbconvert_exporter": "python",
   "pygments_lexer": "ipython3",
   "version": "3.10.14"
  }
 },
 "nbformat": 4,
 "nbformat_minor": 2
}
