{
 "cells": [
  {
   "cell_type": "code",
   "execution_count": 6,
   "metadata": {},
   "outputs": [
    {
     "name": "stdout",
     "output_type": "stream",
     "text": [
      "My name is:Jess\n",
      "My age is:23\n",
      "\n"
     ]
    }
   ],
   "source": [
    "class Person():\n",
    "    def __init__(self,name:str,age:int):\n",
    "        self.__name = name # add __ to make it unchangeable\n",
    "        self.age = age\n",
    "\n",
    "    def __repr__(self):\n",
    "        message = ''\n",
    "        message += f'My name is:{self.name}\\n'\n",
    "        message += f'My age is:{self.age}\\n'\n",
    "        return message\n",
    "    \n",
    "    @property #property is unchangeable\n",
    "    def name(self)->str:\n",
    "        return self.__name\n",
    "\n",
    "p1:Person = Person(age=29,name='Jess')\n",
    "p1.age = 23\n",
    "print(p1)\n"
   ]
  },
  {
   "cell_type": "code",
   "execution_count": 9,
   "metadata": {},
   "outputs": [
    {
     "name": "stdout",
     "output_type": "stream",
     "text": [
      "Pass!\n",
      "Failed.\n"
     ]
    }
   ],
   "source": [
    "class Student(Person):\n",
    "    @classmethod\n",
    "    def get_student(cls, name:str, age:int, scores:int):\n",
    "        return Student(n=name, a=age, scores=scores)\n",
    "    def __init__(self, n:str, a:int, scores:int):\n",
    "        super().__init__(n, a)\n",
    "        self.scores = scores\n",
    "\n",
    "    def get_level(self)->str:\n",
    "        if self.scores >= 60:\n",
    "            return \"Pass!\"\n",
    "        else:\n",
    "            return \"Failed.\"\n",
    "\n",
    "#Created via \"__init__\"    \n",
    "s1 = Student(\"Jess\", a=29, scores=90)\n",
    "print(s1.get_level())\n",
    "\n",
    "#Created entity via \"classmethod\"\n",
    "s2 = Student.get_student(\"Olives\", 7, 55)\n",
    "print(s2.get_level())"
   ]
  }
 ],
 "metadata": {
  "kernelspec": {
   "display_name": "venv1",
   "language": "python",
   "name": "python3"
  },
  "language_info": {
   "codemirror_mode": {
    "name": "ipython",
    "version": 3
   },
   "file_extension": ".py",
   "mimetype": "text/x-python",
   "name": "python",
   "nbconvert_exporter": "python",
   "pygments_lexer": "ipython3",
   "version": "3.10.14"
  }
 },
 "nbformat": 4,
 "nbformat_minor": 2
}
