{
 "cells": [
  {
   "cell_type": "code",
   "execution_count": 2,
   "metadata": {},
   "outputs": [],
   "source": [
    "from pydantic import BaseModel"
   ]
  },
  {
   "cell_type": "code",
   "execution_count": 5,
   "metadata": {},
   "outputs": [],
   "source": [
    "class InventoryItem(BaseModel):\n",
    "    \"\"\"Class for keeping track of an item in inventory.\"\"\"\n",
    "    name: str\n",
    "    unit_price: float\n",
    "    quantity_on_hand: int = 0"
   ]
  },
  {
   "cell_type": "code",
   "execution_count": 6,
   "metadata": {},
   "outputs": [
    {
     "name": "stdout",
     "output_type": "stream",
     "text": [
      "1 validation error for InventoryItem\n",
      "quantity_on_hand\n",
      "  Input should be a valid integer, unable to parse string as an integer [type=int_parsing, input_value='15.5', input_type=str]\n",
      "    For further information visit https://errors.pydantic.dev/2.7/v/int_parsing\n"
     ]
    }
   ],
   "source": [
    "# [unit_price] auto-transform to string FAILED, raised ValidationError. -> Manually transform the string of [unit_price] to [float]\n",
    "from pydantic import ValidationError\n",
    "try:\n",
    "    item1 = InventoryItem(name=\"phonecases\", unit_price=\"29.99\", quantity_on_hand = \"15.5\")\n",
    "    print(item1)\n",
    "except ValidationError as e:\n",
    "    print(e)"
   ]
  },
  {
   "cell_type": "code",
   "execution_count": 12,
   "metadata": {},
   "outputs": [
    {
     "name": "stdout",
     "output_type": "stream",
     "text": [
      "name='phonecases' unit_price=29.99 quantity_on_hand=15\n"
     ]
    }
   ],
   "source": [
    "# unit_price [str] automatically transforms into [int]\n",
    "from pydantic import ValidationError\n",
    "try:\n",
    "    item1 = InventoryItem(name=\"phonecases\",unit_price=\"29.99\",quantity_on_hand=\"15\")\n",
    "    print(item1)\n",
    "except ValidationError as e:\n",
    "    print(e)"
   ]
  },
  {
   "cell_type": "code",
   "execution_count": null,
   "metadata": {},
   "outputs": [],
   "source": [
    "# use [classmethod] to create entity\n",
    "# model_validate(dict)\n",
    "# model_validate_json(.json string)"
   ]
  },
  {
   "cell_type": "code",
   "execution_count": 20,
   "metadata": {},
   "outputs": [
    {
     "name": "stdout",
     "output_type": "stream",
     "text": [
      "name='phonecases' unit_price=29.99 quantity_on_hand=0\n"
     ]
    }
   ],
   "source": [
    "class InventoryItem(BaseModel):\n",
    "    \"\"\"Class for keeping track of an item in inventory.\"\"\"\n",
    "    name: str\n",
    "    unit_price: float\n",
    "    quantity_on_hand: int = 0 # optional\n",
    "\n",
    "data_json:str = '''\n",
    "{\n",
    "    \"name\":\"phonecases\",\n",
    "    \"unit_price\":\"29.99\"\n",
    "}\n",
    "'''\n",
    "item4 = InventoryItem.model_validate_json(data_json)\n",
    "print(item4)"
   ]
  },
  {
   "cell_type": "code",
   "execution_count": 21,
   "metadata": {},
   "outputs": [
    {
     "name": "stdout",
     "output_type": "stream",
     "text": [
      "name='phonecases' unit_price=29.99 quantity_on_hand=None\n"
     ]
    }
   ],
   "source": [
    "class InventoryItem(BaseModel):\n",
    "    \"\"\"Class for keeping track of an item in inventory.\"\"\"\n",
    "    name: str\n",
    "    unit_price: float\n",
    "    quantity_on_hand: int | None = None # optional\n",
    "\n",
    "data_json:str = '''\n",
    "{\n",
    "    \"name\":\"phonecases\",\n",
    "    \"unit_price\":\"29.99\"\n",
    "}\n",
    "'''\n",
    "item5 = InventoryItem.model_validate_json(data_json)\n",
    "print(item5)"
   ]
  }
 ],
 "metadata": {
  "kernelspec": {
   "display_name": "venv1",
   "language": "python",
   "name": "python3"
  },
  "language_info": {
   "codemirror_mode": {
    "name": "ipython",
    "version": 3
   },
   "file_extension": ".py",
   "mimetype": "text/x-python",
   "name": "python",
   "nbconvert_exporter": "python",
   "pygments_lexer": "ipython3",
   "version": "3.10.14"
  }
 },
 "nbformat": 4,
 "nbformat_minor": 2
}
