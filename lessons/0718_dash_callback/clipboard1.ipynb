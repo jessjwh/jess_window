{
 "cells": [
  {
   "cell_type": "code",
   "execution_count": 7,
   "metadata": {},
   "outputs": [
    {
     "data": {
      "text/html": [
       "\n",
       "        <iframe\n",
       "            width=\"100%\"\n",
       "            height=\"650\"\n",
       "            src=\"http://127.0.0.1:8050/\"\n",
       "            frameborder=\"0\"\n",
       "            allowfullscreen\n",
       "            \n",
       "        ></iframe>\n",
       "        "
      ],
      "text/plain": [
       "<IPython.lib.display.IFrame at 0x10b1c9010>"
      ]
     },
     "metadata": {},
     "output_type": "display_data"
    }
   ],
   "source": [
    "from dash import Dash, dcc, html, Input, Output, callback\n",
    "\n",
    "app = Dash(__name__)\n",
    "\n",
    "app.layout = html.Div(\n",
    "    [\n",
    "        html.H6(\"Insert your dream:\"),\n",
    "        html.Div(\n",
    "            [\n",
    "                \"Input: \",\n",
    "                dcc.Input(id='my_input', value=\"initial value\", type=\"text\")\n",
    "            ]\n",
    "        ),\n",
    "        html.Br(),\n",
    "        html.Div(id='my_output')\n",
    "    ]\n",
    ")\n",
    "\n",
    "@callback(\n",
    "        Output(component_id='my_output', component_property='children'),\n",
    "        Input(component_id='my_input', component_property='value')\n",
    ")\n",
    "\n",
    "def update_output_div(input_value:str) -> str:\n",
    "    return f'Output: {input_value}'\n",
    "\n",
    "app.run(debug=True)"
   ]
  }
 ],
 "metadata": {
  "kernelspec": {
   "display_name": "venv3",
   "language": "python",
   "name": "python3"
  },
  "language_info": {
   "codemirror_mode": {
    "name": "ipython",
    "version": 3
   },
   "file_extension": ".py",
   "mimetype": "text/x-python",
   "name": "python",
   "nbconvert_exporter": "python",
   "pygments_lexer": "ipython3",
   "version": "3.11.9"
  }
 },
 "nbformat": 4,
 "nbformat_minor": 2
}
