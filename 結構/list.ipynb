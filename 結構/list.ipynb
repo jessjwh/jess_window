{
 "cells": [
  {
   "cell_type": "code",
   "execution_count": 2,
   "metadata": {},
   "outputs": [
    {
     "name": "stdout",
     "output_type": "stream",
     "text": [
      "5\n",
      "<class 'list'>\n"
     ]
    }
   ],
   "source": [
    "l1:list = [2, 4, 6, 8, 10]\n",
    "#查元素數量\n",
    "print(len(l1))\n",
    "\n",
    "#查哪一個class建立的實體（資料類型）\n",
    "print(type(l1))"
   ]
  },
  {
   "cell_type": "code",
   "execution_count": 3,
   "metadata": {},
   "outputs": [
    {
     "name": "stdout",
     "output_type": "stream",
     "text": [
      "[2, 4, 6, 8, 10, 12]\n"
     ]
    }
   ],
   "source": [
    "#實體的方法method()\n",
    "l1.append(12)\n",
    "print(l1)"
   ]
  },
  {
   "cell_type": "code",
   "execution_count": 4,
   "metadata": {},
   "outputs": [
    {
     "data": {
      "text/plain": [
       "12"
      ]
     },
     "execution_count": 4,
     "metadata": {},
     "output_type": "execute_result"
    }
   ],
   "source": [
    "l1.pop()"
   ]
  },
  {
   "cell_type": "code",
   "execution_count": 21,
   "metadata": {},
   "outputs": [
    {
     "name": "stdout",
     "output_type": "stream",
     "text": [
      "2   4 6\n",
      "8 10\n",
      "不知名的錯誤:list index out of range\n"
     ]
    }
   ],
   "source": [
    "print(l1[0], end='   ')\n",
    "print(l1[1], end=' ')\n",
    "print(l1[2], end='\\n')\n",
    "print(l1[3], end=' ')\n",
    "print(l1[4], end='\\n')\n",
    "\n",
    "try:\n",
    "    print(l1[5])\n",
    "# except IndexError:\n",
    "#     print(\"索引編號超出範圍\")\n",
    "except Exception as e:\n",
    "    print(f\"不知名的錯誤:{e}\")"
   ]
  },
  {
   "cell_type": "code",
   "execution_count": 5,
   "metadata": {},
   "outputs": [
    {
     "name": "stdout",
     "output_type": "stream",
     "text": [
      "2\n",
      "4\n",
      "6\n",
      "8\n",
      "10\n"
     ]
    }
   ],
   "source": [
    "for item in l1:\n",
    "    print(item)"
   ]
  },
  {
   "cell_type": "code",
   "execution_count": 9,
   "metadata": {},
   "outputs": [
    {
     "name": "stdout",
     "output_type": "stream",
     "text": [
      "0\n",
      "2\n",
      "=====\n",
      "1\n",
      "4\n",
      "=====\n",
      "2\n",
      "6\n",
      "=====\n",
      "3\n",
      "8\n",
      "=====\n",
      "4\n",
      "10\n",
      "=====\n"
     ]
    }
   ],
   "source": [
    "for index, value in enumerate(l1):\n",
    "    print(index)\n",
    "    print(value)\n",
    "    print(\"=====\")"
   ]
  },
  {
   "cell_type": "code",
   "execution_count": 8,
   "metadata": {},
   "outputs": [
    {
     "name": "stdout",
     "output_type": "stream",
     "text": [
      "0\n",
      "2\n"
     ]
    }
   ],
   "source": [
    "#tuple拆解法\n",
    "(index, value) = 0,2\n",
    "print(index)\n",
    "print(value)"
   ]
  },
  {
   "cell_type": "code",
   "execution_count": 22,
   "metadata": {},
   "outputs": [
    {
     "name": "stdout",
     "output_type": "stream",
     "text": [
      "J\n",
      "e\n",
      "s\n",
      "s\n",
      " \n",
      "H\n"
     ]
    }
   ],
   "source": [
    "name:str = \"Jess H\"\n",
    "for word in name:\n",
    "    print(word)"
   ]
  },
  {
   "cell_type": "code",
   "execution_count": 24,
   "metadata": {},
   "outputs": [
    {
     "data": {
      "text/plain": [
       "'J'"
      ]
     },
     "execution_count": 24,
     "metadata": {},
     "output_type": "execute_result"
    }
   ],
   "source": [
    "#[index]\n",
    "name[0]"
   ]
  },
  {
   "cell_type": "code",
   "execution_count": 33,
   "metadata": {},
   "outputs": [
    {
     "name": "stdout",
     "output_type": "stream",
     "text": [
      "Jess\n",
      "Jess\n",
      "ess \n",
      "s H\n"
     ]
    }
   ],
   "source": [
    "#[slice]\n",
    "name[0:4]\n",
    "print(name[0:4])\n",
    "print(name[:4])\n",
    "print(name[-5:-1])\n",
    "print(name[-3:]) #取最後3個"
   ]
  }
 ],
 "metadata": {
  "kernelspec": {
   "display_name": "venv1",
   "language": "python",
   "name": "python3"
  },
  "language_info": {
   "codemirror_mode": {
    "name": "ipython",
    "version": 3
   },
   "file_extension": ".py",
   "mimetype": "text/x-python",
   "name": "python",
   "nbconvert_exporter": "python",
   "pygments_lexer": "ipython3",
   "version": "3.10.14"
  }
 },
 "nbformat": 4,
 "nbformat_minor": 2
}
